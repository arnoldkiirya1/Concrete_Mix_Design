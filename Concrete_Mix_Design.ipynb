{
  "nbformat": 4,
  "nbformat_minor": 0,
  "metadata": {
    "colab": {
      "provenance": [],
      "authorship_tag": "ABX9TyOQu3VsaaVJlHo6mkcfrJzE",
      "include_colab_link": true
    },
    "kernelspec": {
      "name": "python3",
      "display_name": "Python 3"
    },
    "language_info": {
      "name": "python"
    }
  },
  "cells": [
    {
      "cell_type": "markdown",
      "metadata": {
        "id": "view-in-github",
        "colab_type": "text"
      },
      "source": [
        "<a href=\"https://colab.research.google.com/github/arnoldkiirya1/Concrete_Mix_Design/blob/main/Concrete_Mix_Design.ipynb\" target=\"_parent\"><img src=\"https://colab.research.google.com/assets/colab-badge.svg\" alt=\"Open In Colab\"/></a>"
      ]
    },
    {
      "cell_type": "markdown",
      "source": [
        "**ALGORITHM FOR CONCRETE MIX DESIGN BASED ON BRITISH METHOD**\n"
      ],
      "metadata": {
        "id": "Xb15qiwGZEjN"
      }
    },
    {
      "cell_type": "code",
      "execution_count": 1,
      "metadata": {
        "colab": {
          "base_uri": "https://localhost:8080/",
          "height": 397
        },
        "id": "Ijy0MG6tYmST",
        "outputId": "e5cbcb51-4bab-4bf8-9bce-4b823b5cdaca"
      },
      "outputs": [
        {
          "output_type": "stream",
          "name": "stdout",
          "text": [
            "WHAT IS RELATIVE COMBINED DENSITY OF THE AGGREGATE?\n"
          ]
        },
        {
          "output_type": "error",
          "ename": "KeyboardInterrupt",
          "evalue": "ignored",
          "traceback": [
            "\u001b[0;31m---------------------------------------------------------------------------\u001b[0m",
            "\u001b[0;31mKeyboardInterrupt\u001b[0m                         Traceback (most recent call last)",
            "\u001b[0;32m<ipython-input-1-d7a369447c98>\u001b[0m in \u001b[0;36m<cell line: 2>\u001b[0;34m()\u001b[0m\n\u001b[1;32m      1\u001b[0m \u001b[0mprint\u001b[0m\u001b[0;34m(\u001b[0m\u001b[0;34m\"WHAT IS RELATIVE COMBINED DENSITY OF THE AGGREGATE?\"\u001b[0m\u001b[0;34m)\u001b[0m\u001b[0;34m\u001b[0m\u001b[0;34m\u001b[0m\u001b[0m\n\u001b[0;32m----> 2\u001b[0;31m \u001b[0mRDA\u001b[0m \u001b[0;34m=\u001b[0m \u001b[0mfloat\u001b[0m\u001b[0;34m(\u001b[0m\u001b[0minput\u001b[0m\u001b[0;34m(\u001b[0m\u001b[0;34m)\u001b[0m\u001b[0;34m)\u001b[0m\u001b[0;34m\u001b[0m\u001b[0;34m\u001b[0m\u001b[0m\n\u001b[0m\u001b[1;32m      3\u001b[0m \u001b[0;34m\u001b[0m\u001b[0m\n\u001b[1;32m      4\u001b[0m \u001b[0mprint\u001b[0m\u001b[0;34m(\u001b[0m\u001b[0;34m\"WHAT IS THE CHARACTERISTIC STRENGTH OF THE CONCRETE?\"\u001b[0m\u001b[0;34m)\u001b[0m\u001b[0;34m\u001b[0m\u001b[0;34m\u001b[0m\u001b[0m\n\u001b[1;32m      5\u001b[0m \u001b[0mFC\u001b[0m \u001b[0;34m=\u001b[0m \u001b[0mfloat\u001b[0m\u001b[0;34m(\u001b[0m\u001b[0minput\u001b[0m\u001b[0;34m(\u001b[0m\u001b[0;34m)\u001b[0m\u001b[0;34m)\u001b[0m\u001b[0;34m\u001b[0m\u001b[0;34m\u001b[0m\u001b[0m\n",
            "\u001b[0;32m/usr/local/lib/python3.10/dist-packages/ipykernel/kernelbase.py\u001b[0m in \u001b[0;36mraw_input\u001b[0;34m(self, prompt)\u001b[0m\n\u001b[1;32m    849\u001b[0m                 \u001b[0;34m\"raw_input was called, but this frontend does not support input requests.\"\u001b[0m\u001b[0;34m\u001b[0m\u001b[0;34m\u001b[0m\u001b[0m\n\u001b[1;32m    850\u001b[0m             )\n\u001b[0;32m--> 851\u001b[0;31m         return self._input_request(str(prompt),\n\u001b[0m\u001b[1;32m    852\u001b[0m             \u001b[0mself\u001b[0m\u001b[0;34m.\u001b[0m\u001b[0m_parent_ident\u001b[0m\u001b[0;34m,\u001b[0m\u001b[0;34m\u001b[0m\u001b[0;34m\u001b[0m\u001b[0m\n\u001b[1;32m    853\u001b[0m             \u001b[0mself\u001b[0m\u001b[0;34m.\u001b[0m\u001b[0m_parent_header\u001b[0m\u001b[0;34m,\u001b[0m\u001b[0;34m\u001b[0m\u001b[0;34m\u001b[0m\u001b[0m\n",
            "\u001b[0;32m/usr/local/lib/python3.10/dist-packages/ipykernel/kernelbase.py\u001b[0m in \u001b[0;36m_input_request\u001b[0;34m(self, prompt, ident, parent, password)\u001b[0m\n\u001b[1;32m    893\u001b[0m             \u001b[0;32mexcept\u001b[0m \u001b[0mKeyboardInterrupt\u001b[0m\u001b[0;34m:\u001b[0m\u001b[0;34m\u001b[0m\u001b[0;34m\u001b[0m\u001b[0m\n\u001b[1;32m    894\u001b[0m                 \u001b[0;31m# re-raise KeyboardInterrupt, to truncate traceback\u001b[0m\u001b[0;34m\u001b[0m\u001b[0;34m\u001b[0m\u001b[0m\n\u001b[0;32m--> 895\u001b[0;31m                 \u001b[0;32mraise\u001b[0m \u001b[0mKeyboardInterrupt\u001b[0m\u001b[0;34m(\u001b[0m\u001b[0;34m\"Interrupted by user\"\u001b[0m\u001b[0;34m)\u001b[0m \u001b[0;32mfrom\u001b[0m \u001b[0;32mNone\u001b[0m\u001b[0;34m\u001b[0m\u001b[0;34m\u001b[0m\u001b[0m\n\u001b[0m\u001b[1;32m    896\u001b[0m             \u001b[0;32mexcept\u001b[0m \u001b[0mException\u001b[0m \u001b[0;32mas\u001b[0m \u001b[0me\u001b[0m\u001b[0;34m:\u001b[0m\u001b[0;34m\u001b[0m\u001b[0;34m\u001b[0m\u001b[0m\n\u001b[1;32m    897\u001b[0m                 \u001b[0mself\u001b[0m\u001b[0;34m.\u001b[0m\u001b[0mlog\u001b[0m\u001b[0;34m.\u001b[0m\u001b[0mwarning\u001b[0m\u001b[0;34m(\u001b[0m\u001b[0;34m\"Invalid Message:\"\u001b[0m\u001b[0;34m,\u001b[0m \u001b[0mexc_info\u001b[0m\u001b[0;34m=\u001b[0m\u001b[0;32mTrue\u001b[0m\u001b[0;34m)\u001b[0m\u001b[0;34m\u001b[0m\u001b[0;34m\u001b[0m\u001b[0m\n",
            "\u001b[0;31mKeyboardInterrupt\u001b[0m: Interrupted by user"
          ]
        }
      ],
      "source": [
        "print(\"WHAT IS RELATIVE COMBINED DENSITY OF THE AGGREGATE?\")\n",
        "RDA = float(input())\n",
        "\n",
        "print(\"WHAT IS THE CHARACTERISTIC STRENGTH OF THE CONCRETE?\")\n",
        "FC = float(input())\n",
        "\n",
        "print(\"WHAT IS THE CEMENT TYPE - 1 FOR ORDINARY PORTLAND CEMENT, 2 FOR SULPHATE RESISTANT CEMENT?\")\n",
        "CT = int(input())\n",
        "\n",
        "print(\"WHAT IS THE EXPECTED SLUMP VALUE - 1 FOR 0-10, 2 FOR 10-30, 3 FOR 30-60, 4 FOR 60-180?\")\n",
        "SLUMP = int(input())\n",
        "\n",
        "print(\"WHAT IS THE MAXIMUM AGGREGATE SIZE - 10, 20, OR 40?\")\n",
        "AZ = int(input())\n",
        "\n",
        "print(\"WHAT IS THE TYPE OF AGGREGATE - 1 FOR CRUSHED, 2 FOR UNCRUSHED?\")\n",
        "TA = int(input())\n",
        "\n",
        "print(\"WHAT IS THE MAXIMUM FREE WATER CEMENT RATIO?\")\n",
        "MFWCR = float(input())\n",
        "\n",
        "print(\"WHAT IS THE MINIMUM CEMENT CONTENT?\")\n",
        "MCC = float(input())\n",
        "\n",
        "print(\"WHAT IS THE DEGREE OF CONTROL - 1 FOR LABORATORY, 2 FOR EXCELLENT SITE, 3 FOR AVERAGE SITE, 4 FOR POOR SITE?\")\n",
        "DOC = int(input())\n",
        "\n",
        "print(\"WHAT IS THE GRADING ZONE OF FINE AGGREGATE?\")\n",
        "ZONE = int(input())\n",
        "\n",
        "if DOC == 1:\n",
        "    SS = 3.5\n",
        "elif DOC == 2:\n",
        "    SS = 4.5\n",
        "elif DOC == 3:\n",
        "    SS = 6\n",
        "elif DOC == 4:\n",
        "    SS = 8\n",
        "\n",
        "FM = FC + 1.645 * SS\n",
        "\n",
        "if TA == 1 and FM < 41.9:\n",
        "    FWCR = 0.000295 * FM ** 2 - 0.0312 * FM + 1.351\n",
        "elif TA == 1 and FM > 41.9:\n",
        "    FWCR = 0.00008519157 * FM ** 2 - 0.01571 * FM + 1.0697\n",
        "elif TA == 2 and FM < 41.9:\n",
        "    FWCR = 0.000295 * FM ** 2 - 0.0312 * FM + 1.291\n",
        "elif TA == 2 and FM > 41.9:\n",
        "    FWCR = 0.00008519157 * FM ** 2 - 0.01571 * FM + 1.0097\n",
        "\n",
        "if FWCR > MFWCR:\n",
        "    FWCR = MFWCR\n",
        "\n",
        "if AZ == 40:\n",
        "    MS = 0.95\n",
        "elif AZ == 20:\n",
        "    MS = 1\n",
        "elif AZ == 10:\n",
        "    MS = 1.2\n",
        "\n",
        "if TA == 1:\n",
        "    if ZONE == 1:\n",
        "        SF = 0.5\n",
        "    elif ZONE == 2:\n",
        "        SF = 0.55\n",
        "    elif ZONE == 3:\n",
        "        SF = 0.6\n",
        "    elif ZONE == 4:\n",
        "        SF = 0.65\n",
        "elif TA == 2:\n",
        "    if ZONE == 1:\n",
        "        SF = 0.45\n",
        "    elif ZONE == 2:\n",
        "        SF = 0.5\n",
        "    elif ZONE == 3:\n",
        "        SF = 0.55\n",
        "    elif ZONE == 4:\n",
        "        SF = 0.6\n",
        "\n",
        "if SLUMP == 1:\n",
        "    FWC = 135\n",
        "elif SLUMP == 2:\n",
        "    FWC = 160\n",
        "elif SLUMP == 3:\n",
        "    FWC = 180\n",
        "elif SLUMP == 4:\n",
        "    FWC = 205\n",
        "\n",
        "CC = FWCR * FWC\n",
        "FAC = SF * MS * (CC - MFWCR * FWC)\n",
        "CAC = CC - FAC\n",
        "\n",
        "if CC < MCC:\n",
        "    CC = MCC\n",
        "\n",
        "if CT == 1:\n",
        "    SC = 1.3\n",
        "elif CT == 2:\n",
        "    SC = 1.6\n",
        "\n",
        "C = CC / (1 + (SC * (RDA - 2.5)))\n",
        "\n",
        "print(\"WATER CONTENT =\", round(FWC, 2), \"KG\")\n",
        "print(\"CEMENT CONTENT =\", round(CC, 2), \"KG\")\n",
        "print(\"FINE AGGREGATE CONTENT =\", round(FAC, 2), \"KG\")\n",
        "print(\"COARSE AGGREGATE CONTENT =\", round(CAC, 2), \"KG\")\n",
        "print(\"THE REQUIRED CEMENT CONTENT IS:\", round(C, 2), \"kg/m³\")\n"
      ]
    }
  ]
}